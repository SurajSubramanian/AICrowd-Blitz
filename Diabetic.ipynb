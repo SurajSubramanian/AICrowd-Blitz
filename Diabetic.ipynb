{
 "cells": [
  {
   "cell_type": "code",
   "execution_count": 457,
   "metadata": {},
   "outputs": [],
   "source": [
    "import sys\n",
    "import pandas as pd\n",
    "import numpy as np\n",
    "from sklearn.model_selection import train_test_split\n",
    "from sklearn.linear_model import LogisticRegression\n",
    "from sklearn.svm import SVC\n",
    "from sklearn.metrics import f1_score,precision_score,recall_score,accuracy_score\n",
    "from sklearn.ensemble import RandomForestClassifier\n",
    "from sklearn.tree import DecisionTreeClassifier\n",
    "from sklearn.linear_model import SGDClassifier\n",
    "from sklearn.naive_bayes import GaussianNB\n",
    "from sklearn.neural_network import MLPClassifier\n",
    "from sklearn.preprocessing import StandardScaler\n",
    "\n",
    "from sklearn.ensemble import ExtraTreesClassifier\n",
    "\n",
    "from sklearn.ensemble import RandomForestClassifier, AdaBoostClassifier, GradientBoostingClassifier, ExtraTreesClassifier, VotingClassifier\n",
    "from sklearn.model_selection import GridSearchCV, cross_val_score, StratifiedKFold, learning_curve"
   ]
  },
  {
   "cell_type": "code",
   "execution_count": 477,
   "metadata": {},
   "outputs": [],
   "source": [
    "train_data_path = \"train.csv\"\n",
    "train_data = pd.read_csv(train_data_path,header=None)\n",
    "final_test_path = \"test.csv\"\n",
    "final_test = pd.read_csv(final_test_path, header=None)\n",
    "\n",
    "scaler = StandardScaler()\n",
    "\n",
    "# train_data[[8,9,10,11,12,13,14,15,16,17]] = scaler.fit_transform(train_data[[8,9,10,11,12,13,14,15,16,17]])\n",
    "# final_test[[8,9,10,11,12,13,14,15,16,17]] = scaler.fit_transform(final_test[[8,9,10,11,12,13,14,15,16,17]])\n",
    "\n",
    "X_train, X_val= train_test_split(train_data, test_size=0.000002, random_state=42) \n",
    "\n",
    "X_train,y_train = X_train.iloc[:,:-1],X_train.iloc[:,-1]\n",
    "X_val,y_val = X_val.iloc[:,:-1],X_val.iloc[:,-1]"
   ]
  },
  {
   "cell_type": "code",
   "execution_count": 478,
   "metadata": {},
   "outputs": [],
   "source": [
    "def accuracy_checker(y_val, y_pred):\n",
    "    precision = precision_score(y_val,y_pred,average='micro')\n",
    "    recall = recall_score(y_val,y_pred,average='micro')\n",
    "    accuracy = accuracy_score(y_val,y_pred)\n",
    "    f1 = f1_score(y_val,y_pred,average='macro')\n",
    "    \n",
    "    print(\"Accuracy of the model is :\" ,accuracy)\n",
    "    print(\"Recall of the model is :\" ,recall)\n",
    "    print(\"Precision of the model is :\" ,precision)\n",
    "    print(\"F1 score of the model is :\" ,f1)"
   ]
  },
  {
   "cell_type": "markdown",
   "metadata": {},
   "source": [
    "et - ExtraTreesClassifier"
   ]
  },
  {
   "cell_type": "code",
   "execution_count": 479,
   "metadata": {},
   "outputs": [
    {
     "name": "stdout",
     "output_type": "stream",
     "text": [
      "Accuracy of the model is : 1.0\n",
      "Recall of the model is : 1.0\n",
      "Precision of the model is : 1.0\n",
      "F1 score of the model is : 1.0\n"
     ]
    }
   ],
   "source": [
    "et=ExtraTreesClassifier(n_estimators=220, random_state=1)\n",
    "et.fit(X_train, y_train)\n",
    "y_pred = et.predict(X_val)\n",
    "accuracy_checker(y_val, y_pred)"
   ]
  },
  {
   "cell_type": "code",
   "execution_count": null,
   "metadata": {},
   "outputs": [],
   "source": []
  },
  {
   "cell_type": "markdown",
   "metadata": {},
   "source": [
    "lr - LogisticRegression"
   ]
  },
  {
   "cell_type": "code",
   "execution_count": 480,
   "metadata": {},
   "outputs": [
    {
     "name": "stderr",
     "output_type": "stream",
     "text": [
      "/Users/suraj/anaconda3/lib/python3.7/site-packages/sklearn/linear_model/_logistic.py:940: ConvergenceWarning: lbfgs failed to converge (status=1):\n",
      "STOP: TOTAL NO. of ITERATIONS REACHED LIMIT.\n",
      "\n",
      "Increase the number of iterations (max_iter) or scale the data as shown in:\n",
      "    https://scikit-learn.org/stable/modules/preprocessing.html\n",
      "Please also refer to the documentation for alternative solver options:\n",
      "    https://scikit-learn.org/stable/modules/linear_model.html#logistic-regression\n",
      "  extra_warning_msg=_LOGISTIC_SOLVER_CONVERGENCE_MSG)\n"
     ]
    },
    {
     "name": "stdout",
     "output_type": "stream",
     "text": [
      "Accuracy of the model is : 1.0\n",
      "Recall of the model is : 1.0\n",
      "Precision of the model is : 1.0\n",
      "F1 score of the model is : 1.0\n"
     ]
    }
   ],
   "source": [
    "clf = LogisticRegression(C = 0.01, penalty = 'l2', max_iter=400, class_weight=None)\n",
    "params = {'class_weight':[{0:neg_weight, 1:1} for neg_weight in np.arange(1.0, 5.0, 0.5)]}\n",
    "lr = GridSearchCV(estimator=clf, param_grid=params, cv=5)\n",
    "lr.fit(X_train, y_train)\n",
    "y_pred = lr.predict(X_val)\n",
    "\n",
    "accuracy_checker(y_val, y_pred)"
   ]
  },
  {
   "cell_type": "code",
   "execution_count": null,
   "metadata": {},
   "outputs": [],
   "source": []
  },
  {
   "cell_type": "markdown",
   "metadata": {},
   "source": [
    "mlp - MultiLayer Perceptron"
   ]
  },
  {
   "cell_type": "code",
   "execution_count": 481,
   "metadata": {},
   "outputs": [
    {
     "name": "stdout",
     "output_type": "stream",
     "text": [
      "Accuracy of the model is : 1.0\n",
      "Recall of the model is : 1.0\n",
      "Precision of the model is : 1.0\n",
      "F1 score of the model is : 1.0\n"
     ]
    }
   ],
   "source": [
    "from sklearn.linear_model import Perceptron\n",
    "\n",
    "p = Perceptron(alpha=0.0008, n_iter_no_change=120)\n",
    "p.fit(X_train, y_train)\n",
    "y_pred = p.predict(X_val)\n",
    "accuracy_checker(y_val, y_pred)"
   ]
  },
  {
   "cell_type": "code",
   "execution_count": null,
   "metadata": {},
   "outputs": [],
   "source": []
  },
  {
   "cell_type": "markdown",
   "metadata": {},
   "source": [
    "svc - SVC"
   ]
  },
  {
   "cell_type": "code",
   "execution_count": 482,
   "metadata": {},
   "outputs": [
    {
     "name": "stdout",
     "output_type": "stream",
     "text": [
      "Accuracy of the model is : 1.0\n",
      "Recall of the model is : 1.0\n",
      "Precision of the model is : 1.0\n",
      "F1 score of the model is : 1.0\n"
     ]
    }
   ],
   "source": [
    "svc = SVC(kernel='linear')\n",
    "svc.fit(X_train, y_train)\n",
    "y_pred = svc.predict(X_val)\n",
    "\n",
    "accuracy_checker(y_pred, y_val)"
   ]
  },
  {
   "cell_type": "code",
   "execution_count": null,
   "metadata": {},
   "outputs": [],
   "source": []
  },
  {
   "cell_type": "markdown",
   "metadata": {},
   "source": [
    "fit2 - AdaBoost"
   ]
  },
  {
   "cell_type": "code",
   "execution_count": 483,
   "metadata": {
    "scrolled": true
   },
   "outputs": [
    {
     "name": "stdout",
     "output_type": "stream",
     "text": [
      "Accuracy of the model is : 1.0\n",
      "Recall of the model is : 1.0\n",
      "Precision of the model is : 1.0\n",
      "F1 score of the model is : 1.0\n"
     ]
    }
   ],
   "source": [
    "fit2 = AdaBoostClassifier(random_state=1, n_estimators=820)\n",
    "fit2.fit(X_train, y_train)\n",
    "y_pred = fit2.predict(X_val)\n",
    "\n",
    "accuracy_checker(y_pred, y_val) "
   ]
  },
  {
   "cell_type": "code",
   "execution_count": null,
   "metadata": {},
   "outputs": [],
   "source": []
  },
  {
   "cell_type": "code",
   "execution_count": null,
   "metadata": {},
   "outputs": [],
   "source": []
  },
  {
   "cell_type": "code",
   "execution_count": 484,
   "metadata": {},
   "outputs": [
    {
     "name": "stdout",
     "output_type": "stream",
     "text": [
      "1.0\n"
     ]
    }
   ],
   "source": [
    "from catboost import CatBoostClassifier\n",
    "\n",
    "cat = CatBoostClassifier(\n",
    "    iterations=500, \n",
    "    learning_rate=0.03, \n",
    "    loss_function='CrossEntropy'\n",
    "    \n",
    ")\n",
    "\n",
    "\n",
    "cat.fit(X_train, y_train, \n",
    "        eval_set=(X_val, y_val), \n",
    "        verbose=False\n",
    ")\n",
    "\n",
    "y_pred = cat.predict(X_val)\n",
    "print(accuracy_score(y_pred, y_val))"
   ]
  },
  {
   "cell_type": "code",
   "execution_count": null,
   "metadata": {},
   "outputs": [],
   "source": []
  },
  {
   "cell_type": "code",
   "execution_count": 485,
   "metadata": {},
   "outputs": [
    {
     "name": "stdout",
     "output_type": "stream",
     "text": [
      "Accuracy of the model is : 1.0\n",
      "Recall of the model is : 1.0\n",
      "Precision of the model is : 1.0\n",
      "F1 score of the model is : 1.0\n"
     ]
    }
   ],
   "source": [
    "from sklearn.discriminant_analysis import LinearDiscriminantAnalysis\n",
    "\n",
    "lda = LinearDiscriminantAnalysis()\n",
    "lda.fit(X_train, y_train)\n",
    "\n",
    "y_pred = lda.predict(X_val)\n",
    "accuracy_checker(y_pred, y_val)"
   ]
  },
  {
   "cell_type": "code",
   "execution_count": null,
   "metadata": {},
   "outputs": [],
   "source": []
  },
  {
   "cell_type": "code",
   "execution_count": 486,
   "metadata": {},
   "outputs": [
    {
     "name": "stdout",
     "output_type": "stream",
     "text": [
      "Accuracy of the model is : 0.0\n",
      "Recall of the model is : 0.0\n",
      "Precision of the model is : 0.0\n",
      "F1 score of the model is : 0.0\n"
     ]
    }
   ],
   "source": [
    "from sklearn.ensemble.forest import RandomForestClassifier\n",
    "r = RandomForestClassifier(max_depth=4, n_estimators=120)\n",
    "r.fit(X_train, y_train)\n",
    "y_pred = r.predict(X_val)\n",
    "accuracy_checker(y_val, y_pred)"
   ]
  },
  {
   "cell_type": "code",
   "execution_count": null,
   "metadata": {},
   "outputs": [],
   "source": []
  },
  {
   "cell_type": "code",
   "execution_count": 487,
   "metadata": {},
   "outputs": [
    {
     "name": "stdout",
     "output_type": "stream",
     "text": [
      "Accuracy of the model is : 1.0\n",
      "Recall of the model is : 1.0\n",
      "Precision of the model is : 1.0\n",
      "F1 score of the model is : 1.0\n"
     ]
    },
    {
     "name": "stderr",
     "output_type": "stream",
     "text": [
      "/Users/suraj/anaconda3/lib/python3.7/site-packages/sklearn/svm/_base.py:947: ConvergenceWarning: Liblinear failed to converge, increase the number of iterations.\n",
      "  \"the number of iterations.\", ConvergenceWarning)\n",
      "/Users/suraj/anaconda3/lib/python3.7/site-packages/sklearn/svm/_base.py:947: ConvergenceWarning: Liblinear failed to converge, increase the number of iterations.\n",
      "  \"the number of iterations.\", ConvergenceWarning)\n",
      "/Users/suraj/anaconda3/lib/python3.7/site-packages/sklearn/svm/_base.py:947: ConvergenceWarning: Liblinear failed to converge, increase the number of iterations.\n",
      "  \"the number of iterations.\", ConvergenceWarning)\n",
      "/Users/suraj/anaconda3/lib/python3.7/site-packages/sklearn/svm/_base.py:947: ConvergenceWarning: Liblinear failed to converge, increase the number of iterations.\n",
      "  \"the number of iterations.\", ConvergenceWarning)\n",
      "/Users/suraj/anaconda3/lib/python3.7/site-packages/sklearn/svm/_base.py:947: ConvergenceWarning: Liblinear failed to converge, increase the number of iterations.\n",
      "  \"the number of iterations.\", ConvergenceWarning)\n"
     ]
    }
   ],
   "source": [
    "from sklearn.ensemble.bagging import BaggingClassifier\n",
    "\n",
    "bag = CalibratedClassifierCV()\n",
    "bag.fit(X_train, y_train)\n",
    "y_pred = bag.predict(X_val)\n",
    "accuracy_checker(y_val, y_pred)"
   ]
  },
  {
   "cell_type": "code",
   "execution_count": 488,
   "metadata": {},
   "outputs": [
    {
     "name": "stdout",
     "output_type": "stream",
     "text": [
      "Accuracy of the model is : 1.0\n",
      "Recall of the model is : 1.0\n",
      "Precision of the model is : 1.0\n",
      "F1 score of the model is : 1.0\n"
     ]
    }
   ],
   "source": [
    "from sklearn.svm import NuSVC\n",
    "nusvc = NuSVC()\n",
    "nusvc.fit(X_train, y_train)\n",
    "y_pred = nusvc.predict(X_val)\n",
    "accuracy_checker(y_val, y_pred)"
   ]
  },
  {
   "cell_type": "code",
   "execution_count": null,
   "metadata": {},
   "outputs": [],
   "source": []
  },
  {
   "cell_type": "code",
   "execution_count": 489,
   "metadata": {},
   "outputs": [
    {
     "name": "stdout",
     "output_type": "stream",
     "text": [
      "Accuracy of the model is : 1.0\n",
      "Recall of the model is : 1.0\n",
      "Precision of the model is : 1.0\n",
      "F1 score of the model is : 1.0\n"
     ]
    }
   ],
   "source": [
    "from sklearn.naive_bayes import BernoulliNB\n",
    "nc = BernoulliNB(fit_prior=False, alpha=1)\n",
    "nc.fit(X_train, y_train)\n",
    "y_pred = nc.predict(X_val)\n",
    "accuracy_checker(y_val, y_pred)"
   ]
  },
  {
   "cell_type": "code",
   "execution_count": null,
   "metadata": {},
   "outputs": [],
   "source": []
  },
  {
   "cell_type": "code",
   "execution_count": 490,
   "metadata": {},
   "outputs": [
    {
     "name": "stdout",
     "output_type": "stream",
     "text": [
      "Accuracy of the model is : 1.0\n",
      "Recall of the model is : 1.0\n",
      "Precision of the model is : 1.0\n",
      "F1 score of the model is : 1.0\n"
     ]
    }
   ],
   "source": [
    "from sklearn.neighbors import KNeighborsClassifier\n",
    "knn = KNeighborsClassifier(3)\n",
    "knn.fit(X_train, y_train)\n",
    "y_pred = knn.predict(X_val)\n",
    "accuracy_checker(y_val, y_pred) "
   ]
  },
  {
   "cell_type": "code",
   "execution_count": null,
   "metadata": {},
   "outputs": [],
   "source": []
  },
  {
   "cell_type": "code",
   "execution_count": 491,
   "metadata": {},
   "outputs": [
    {
     "name": "stdout",
     "output_type": "stream",
     "text": [
      "Accuracy of the model is : 1.0\n",
      "Recall of the model is : 1.0\n",
      "Precision of the model is : 1.0\n",
      "F1 score of the model is : 1.0\n"
     ]
    }
   ],
   "source": [
    "from sklearn.linear_model.stochastic_gradient import SGDClassifier\n",
    "pac = SGDClassifier(penalty='l1', max_iter=100)\n",
    "pac.fit(X_train, y_train)\n",
    "y_pred = pac.predict(X_val)\n",
    "accuracy_checker(y_val, y_pred) "
   ]
  },
  {
   "cell_type": "code",
   "execution_count": null,
   "metadata": {},
   "outputs": [],
   "source": []
  },
  {
   "cell_type": "code",
   "execution_count": 492,
   "metadata": {},
   "outputs": [
    {
     "name": "stdout",
     "output_type": "stream",
     "text": [
      "Accuracy of the model is : 1.0\n",
      "Recall of the model is : 1.0\n",
      "Precision of the model is : 1.0\n",
      "F1 score of the model is : 1.0\n"
     ]
    }
   ],
   "source": [
    "mlp = MLPClassifier(alpha = 1)\n",
    "mlp.fit(X_train, y_train)\n",
    "y_pred = mlp.predict(X_val)\n",
    "accuracy_checker(y_val, y_pred) "
   ]
  },
  {
   "cell_type": "code",
   "execution_count": null,
   "metadata": {},
   "outputs": [],
   "source": []
  },
  {
   "cell_type": "code",
   "execution_count": 493,
   "metadata": {},
   "outputs": [],
   "source": [
    "votingC = VotingClassifier(estimators=[('logistic_regression', lr),('SVC',svc),\n",
    "                                       ('Catboost', cat),('extra', et), ('bag', bag), ('lda', lda), ('per', p), \n",
    "                                       ('randomforest', r), ('nusvc', nusvc), ('knn', knn), ('bnb', nc), \n",
    "                                       ('pac', pac)], \n",
    "                           voting='hard', n_jobs=6, \n",
    "                           weights = [1.5,1.5,1,1,1,1,1,1,1,1,1,1])\n",
    "\n",
    "votingC = votingC.fit(X_train, y_train)"
   ]
  },
  {
   "cell_type": "code",
   "execution_count": 494,
   "metadata": {},
   "outputs": [],
   "source": [
    "y_pred = votingC.predict(X_val)"
   ]
  },
  {
   "cell_type": "code",
   "execution_count": 495,
   "metadata": {},
   "outputs": [
    {
     "name": "stdout",
     "output_type": "stream",
     "text": [
      "Accuracy of the model is : 1.0\n",
      "Recall of the model is : 1.0\n",
      "Precision of the model is : 1.0\n",
      "F1 score of the model is : 1.0\n"
     ]
    }
   ],
   "source": [
    "accuracy_checker(y_val, y_pred)"
   ]
  },
  {
   "cell_type": "code",
   "execution_count": null,
   "metadata": {},
   "outputs": [],
   "source": []
  },
  {
   "cell_type": "code",
   "execution_count": 496,
   "metadata": {},
   "outputs": [],
   "source": [
    "final_test_path = \"test.csv\"\n",
    "final_test = pd.read_csv(final_test_path, header=None)"
   ]
  },
  {
   "cell_type": "code",
   "execution_count": 497,
   "metadata": {},
   "outputs": [],
   "source": [
    "submission = votingC.predict(final_test)\n",
    "sub = pd.DataFrame(submission)\n",
    "sub.to_csv('submission.csv',header=['label'],index=False)"
   ]
  },
  {
   "cell_type": "code",
   "execution_count": null,
   "metadata": {},
   "outputs": [],
   "source": []
  },
  {
   "cell_type": "code",
   "execution_count": null,
   "metadata": {},
   "outputs": [],
   "source": []
  }
 ],
 "metadata": {
  "kernelspec": {
   "display_name": "Python 3",
   "language": "python",
   "name": "python3"
  },
  "language_info": {
   "codemirror_mode": {
    "name": "ipython",
    "version": 3
   },
   "file_extension": ".py",
   "mimetype": "text/x-python",
   "name": "python",
   "nbconvert_exporter": "python",
   "pygments_lexer": "ipython3",
   "version": "3.7.7"
  }
 },
 "nbformat": 4,
 "nbformat_minor": 4
}
